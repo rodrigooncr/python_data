{
 "cells": [
  {
   "cell_type": "markdown",
   "id": "5e20e244",
   "metadata": {},
   "source": [
    "# Prueba de un notebook"
   ]
  }
 ],
 "metadata": {
  "language_info": {
   "name": "python"
  }
 },
 "nbformat": 4,
 "nbformat_minor": 5
}
